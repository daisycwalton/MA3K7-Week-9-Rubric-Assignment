{
 "cells": [
  {
   "cell_type": "markdown",
   "id": "ae196614-683c-427f-b51f-99b5bee89c9a",
   "metadata": {},
   "source": [
    "## MA3K7 Week 9 Rubric Code"
   ]
  },
  {
   "cell_type": "code",
   "execution_count": 42,
   "id": "d618c274-7388-41ad-95f6-f6dc9cc70ec9",
   "metadata": {},
   "outputs": [],
   "source": [
    "import numpy as np\n",
    "import random\n",
    "import math\n",
    "import sympy as sp\n",
    "from sympy.abc import m\n",
    "import matplotlib.pyplot as plt"
   ]
  },
  {
   "cell_type": "markdown",
   "id": "460ed428-5a58-4ca1-baad-51665470b9fc",
   "metadata": {},
   "source": [
    "### Simulation of game"
   ]
  },
  {
   "cell_type": "code",
   "execution_count": 89,
   "id": "6fdd23b2-eac4-4349-97d0-c227a0daa424",
   "metadata": {},
   "outputs": [
    {
     "name": "stdout",
     "output_type": "stream",
     "text": [
      "Over 100,000 games, the probability of landing on 25 is: 0.66644\n"
     ]
    }
   ],
   "source": [
    "hit = 0\n",
    "miss = 0\n",
    "\n",
    "for _ in range(100000):\n",
    "    step = 1\n",
    "    for i in range(25):\n",
    "        move = random.randint(1,2)\n",
    "        step += move\n",
    "\n",
    "        if step == 25:\n",
    "            hit += 1\n",
    "            break\n",
    "        if step == 26:\n",
    "            miss += 1\n",
    "            break\n",
    "\n",
    "prob = hit / 100000\n",
    "print(f\"Over 100,000 games, the probability of landing on 25 is:\", prob)"
   ]
  },
  {
   "cell_type": "markdown",
   "id": "44479460-80f9-444b-96f3-f717b6828a29",
   "metadata": {},
   "source": [
    "### Method 1 - recurrence relation"
   ]
  },
  {
   "cell_type": "code",
   "execution_count": 38,
   "id": "1ce971cd-a29c-4d8e-bf55-9e74a32e559b",
   "metadata": {},
   "outputs": [
    {
     "name": "stdout",
     "output_type": "stream",
     "text": [
      "We have the roots: (-0.500000000000000, 1.00000000000000)\n",
      "We have the constants C_1 = -0.666666666666667 and C_2 = 0.666666666666667\n"
     ]
    }
   ],
   "source": [
    "# Solve the roots of the characteristic polynomial\n",
    "M = sp.solve(m**2 - (1/2)*m - 1/2, m)\n",
    "\n",
    "print(f\"We have the roots: {M[0], M[1]}\")\n",
    "\n",
    "# Solve the linear system\n",
    "x, y = sp.symbols(\"x,y\")\n",
    "A = sp.Matrix([[1, 1], [M[0], M[1]]])\n",
    "b = sp.Matrix([0, 1])\n",
    "C,= sp.linsolve((A, b), x, y)\n",
    "\n",
    "print(f\"We have the constants C_1 = {C[0]} and C_2 = {C[1]}\")"
   ]
  },
  {
   "cell_type": "code",
   "execution_count": 66,
   "id": "ac6cbcbb-6aa5-440c-a5e1-2cc2861f1ea6",
   "metadata": {
    "tags": []
   },
   "outputs": [
    {
     "data": {
      "text/plain": [
       "0.6666666865348816"
      ]
     },
     "execution_count": 66,
     "metadata": {},
     "output_type": "execute_result"
    }
   ],
   "source": [
    "def prob1(N):\n",
    "    return 2/3 * (1 - (-1/2)**N)\n",
    "\n",
    "prob1(25)"
   ]
  },
  {
   "cell_type": "markdown",
   "id": "762cf7be-93af-4832-ab9c-8dd1267224c3",
   "metadata": {},
   "source": [
    "### Method 2 - summation from counting 1's and 2's"
   ]
  },
  {
   "cell_type": "code",
   "execution_count": 67,
   "id": "851d8226-d6a2-44be-878a-6ba024413960",
   "metadata": {},
   "outputs": [
    {
     "data": {
      "text/plain": [
       "0.6666666865348816"
      ]
     },
     "execution_count": 67,
     "metadata": {},
     "output_type": "execute_result"
    }
   ],
   "source": [
    "def prob2(N):\n",
    "    sum = 0\n",
    "    M = int(N/2-1)\n",
    "    L= int((1/2)*(N-1))\n",
    "    \n",
    "    if N % 2 == 0:\n",
    "        for k in range(M+1):\n",
    "            sum += math.comb(N-1-k,k) * math.pow(1/2,N-1-k)\n",
    "    \n",
    "    else:\n",
    "        for k in range(L+1):\n",
    "            sum += math.comb(N-1-k,k) * math.pow(1/2,N-1-k)\n",
    "            \n",
    "    return sum\n",
    "\n",
    "prob2(25)"
   ]
  },
  {
   "cell_type": "markdown",
   "id": "96994ba9-3bf3-415a-b7bc-3bf0c3c48715",
   "metadata": {},
   "source": [
    "### Extension - plotting probabilities for larger N"
   ]
  },
  {
   "cell_type": "code",
   "execution_count": 68,
   "id": "080ae9b8-8521-4b64-9253-85e455e7322e",
   "metadata": {},
   "outputs": [
    {
     "data": {
      "image/png": "[encoded data removed]",
      "text/plain": [
       "<Figure size 640x480 with 1 Axes>"
      ]
     },
     "metadata": {},
     "output_type": "display_data"
    },
    {
     "name": "stdout",
     "output_type": "stream",
     "text": [
      "The probability of landing on S_100 is: 0.6666666666666666\n"
     ]
    }
   ],
   "source": [
    "def plot(N):\n",
    "    x = np.arange(1,N+1)\n",
    "    \n",
    "    plt.plot(x, prob1(x))\n",
    "    plt.xlabel('N')\n",
    "    plt.ylabel('P(L_N)')\n",
    "    plt.title('Probability of landing on step number N')\n",
    "    plt.show()\n",
    "    \n",
    "    print(f\"The probability of landing on S_{N} is:\", prob1(N))\n",
    "    \n",
    "plot(100)"
   ]
  },
  {
   "cell_type": "code",
   "execution_count": null,
   "id": "90aee6f8-7c38-4a2c-9da2-82fefad66607",
   "metadata": {},
   "outputs": [],
   "source": []
  }
 ],
 "metadata": {
  "kernelspec": {
   "display_name": "Python 3 (ipykernel)",
   "language": "python",
   "name": "python3"
  },
  "language_info": {
   "codemirror_mode": {
    "name": "ipython",
    "version": 3
   },
   "file_extension": ".py",
   "mimetype": "text/x-python",
   "name": "python",
   "nbconvert_exporter": "python",
   "pygments_lexer": "ipython3",
   "version": "3.9.13"
  }
 },
 "nbformat": 4,
 "nbformat_minor": 5
}
